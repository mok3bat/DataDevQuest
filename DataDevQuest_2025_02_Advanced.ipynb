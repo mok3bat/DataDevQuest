{
  "nbformat": 4,
  "nbformat_minor": 0,
  "metadata": {
    "colab": {
      "provenance": [],
      "authorship_tag": "ABX9TyOoAmP2q+a23RE+TC+oKahP"
    },
    "kernelspec": {
      "name": "python3",
      "display_name": "Python 3"
    },
    "language_info": {
      "name": "python"
    }
  },
  "cells": [
    {
      "cell_type": "code",
      "execution_count": 3,
      "metadata": {
        "id": "Xg9yiuinPT0Y",
        "colab": {
          "base_uri": "https://localhost:8080/"
        },
        "outputId": "d49181a2-a5f2-4ca7-acc0-bd5f7b17e126"
      },
      "outputs": [
        {
          "output_type": "stream",
          "name": "stdout",
          "text": [
            "Requirement already satisfied: tableauserverclient in /usr/local/lib/python3.11/dist-packages (0.37)\n",
            "Requirement already satisfied: requests in /usr/local/lib/python3.11/dist-packages (2.32.3)\n",
            "Requirement already satisfied: defusedxml>=0.7.1 in /usr/local/lib/python3.11/dist-packages (from tableauserverclient) (0.7.1)\n",
            "Requirement already satisfied: packaging>=23.1 in /usr/local/lib/python3.11/dist-packages (from tableauserverclient) (24.2)\n",
            "Requirement already satisfied: urllib3<3,>=2.2.2 in /usr/local/lib/python3.11/dist-packages (from tableauserverclient) (2.3.0)\n",
            "Requirement already satisfied: typing_extensions>=4.0 in /usr/local/lib/python3.11/dist-packages (from tableauserverclient) (4.13.1)\n",
            "Requirement already satisfied: charset-normalizer<4,>=2 in /usr/local/lib/python3.11/dist-packages (from requests) (3.4.1)\n",
            "Requirement already satisfied: idna<4,>=2.5 in /usr/local/lib/python3.11/dist-packages (from requests) (3.10)\n",
            "Requirement already satisfied: certifi>=2017.4.17 in /usr/local/lib/python3.11/dist-packages (from requests) (2025.1.31)\n"
          ]
        }
      ],
      "source": [
        "# Install Tableau Server Client (TSC)\n",
        "!pip install tableauserverclient requests"
      ]
    },
    {
      "cell_type": "markdown",
      "source": [
        "# **Login to Tableau Cloud Site**"
      ],
      "metadata": {
        "id": "rFm88oRLSTNP"
      }
    },
    {
      "cell_type": "code",
      "source": [
        "import tableauserverclient as TSC\n",
        "import requests\n",
        "from google.colab import userdata\n",
        "\n",
        "\n",
        "my_server_url = 'https://10ax.online.tableau.com/'\n",
        "my_token_name = userdata.get('TC_token_name')\n",
        "my_token_secret = userdata.get('TC_token_secret')\n",
        "my_site_id = userdata.get('TC_site_id')\n",
        "my_data_source = \"cpat_results\"\n",
        "\n",
        "\n",
        "tableau_auth = TSC.PersonalAccessTokenAuth( token_name=my_token_name\n",
        "                                           ,personal_access_token=my_token_secret\n",
        "                                           ,site_id=my_site_id)\n",
        "server = TSC.Server(my_server_url, use_server_version=True)\n",
        "\n",
        "# Sign in to Tableau Cloud\n",
        "\n",
        "server.auth.sign_in_with_personal_access_token(tableau_auth)\n",
        "print('[Logged in successfully to {}]'.format(my_server_url))"
      ],
      "metadata": {
        "id": "pnD-gh_ievEW",
        "colab": {
          "base_uri": "https://localhost:8080/"
        },
        "outputId": "11469022-cd62-4a48-f6fc-54d7b48bf763"
      },
      "execution_count": 33,
      "outputs": [
        {
          "output_type": "stream",
          "name": "stdout",
          "text": [
            "[Logged in successfully to https://10ax.online.tableau.com/]\n"
          ]
        }
      ]
    },
    {
      "cell_type": "markdown",
      "source": [
        "# **Retrieve only the requested Datasource and Populate Connection Details**"
      ],
      "metadata": {
        "id": "KbFnNDqDSstM"
      }
    },
    {
      "cell_type": "code",
      "source": [
        "import pandas as pd\n",
        "from pandas import json_normalize\n",
        "\n",
        "#Query the Metadata API and store the response in resp\n",
        "#Add filteration clause to consider only the requested connection\n",
        "\n",
        "#Set the query https://help.tableau.com/current/api/metadata_api/en-us/docs/meta_api_examples.html\n",
        "query = \"\"\"\n",
        "{\n",
        "  databaseServersConnection(filter: {hostName: \"mysql-rfam-public.ebi.ac.uk\"}) {\n",
        "    nodes {\n",
        "      luid\n",
        "      name\n",
        "      hostName\n",
        "      port\n",
        "      downstreamWorkbooks {\n",
        "        luid\n",
        "        name\n",
        "        projectName\n",
        "        projectLuid\n",
        "      }\n",
        "      downstreamDatasources {\n",
        "        luid\n",
        "        name\n",
        "        projectName\n",
        "      }\n",
        "    }\n",
        "  }\n",
        "}\n",
        "    \"\"\"\n",
        "\n",
        "\n",
        "resp = server.metadata.query(query)"
      ],
      "metadata": {
        "id": "C3QEAgjHQ_43"
      },
      "execution_count": 39,
      "outputs": []
    },
    {
      "cell_type": "markdown",
      "source": [
        "***I have created 1 datasource using this connection and two additional workbooks. One workbook has a connection to the published datasource created earlier. The second workbook has an embedded connection.***\n",
        "\n",
        "***This's to evaluate the effort needed for fixing the 3 objects.***"
      ],
      "metadata": {
        "id": "fgl_K5AltiKY"
      }
    },
    {
      "cell_type": "code",
      "source": [
        "from tabulate import tabulate\n",
        "\n",
        "\n",
        "# Extract & flatten\n",
        "connections = resp[\"data\"][\"databaseServersConnection\"][\"nodes\"]\n",
        "flat_workbooks = []\n",
        "flat_datasources = []\n",
        "\n",
        "for connection in connections:\n",
        "    connection_info = {\n",
        "        \"connection_id\": connection[\"luid\"],\n",
        "        \"connection_name\": connection[\"name\"],\n",
        "        \"host_name\": connection[\"hostName\"],\n",
        "        \"port\": connection[\"port\"]\n",
        "    }\n",
        "\n",
        "    # Direct downstream workbooks (from connection)\n",
        "    for wb in connection.get(\"downstreamWorkbooks\", []):\n",
        "        flat_workbooks.append({\n",
        "            **connection_info,\n",
        "            \"workbook_id\": wb[\"luid\"],\n",
        "            \"workbook_name\": wb[\"name\"],\n",
        "            \"project_name\": wb[\"projectName\"],\n",
        "            \"project_luid\": wb.get(\"projectLuid\")\n",
        "        })\n",
        "\n",
        "    # Datasources\n",
        "    for ds in connection.get(\"downstreamDatasources\", []):\n",
        "        ds_info = {\n",
        "            **connection_info,\n",
        "            \"datasource_id\": ds[\"luid\"],\n",
        "            \"datasource_name\": ds[\"name\"],\n",
        "            \"datasource_project_name\": ds[\"projectName\"]\n",
        "        }\n",
        "        flat_datasources.append(ds_info)\n",
        "\n",
        "\n",
        "# Convert to DataFrames\n",
        "df_connection_workbooks = pd.DataFrame(flat_workbooks)\n",
        "df_datasources = pd.DataFrame(flat_datasources)\n",
        "\n",
        "# Show sample output\n",
        "print(\"🔗 Connection ➝ Workbooks:\")\n",
        "print(tabulate(df_connection_workbooks, headers='keys', tablefmt='psql'))\n",
        "print(\"\\n\")\n",
        "\n",
        "print(\"🗄️ Connection ➝ Datasources:\")\n",
        "print(tabulate(df_datasources, headers='keys', tablefmt='psql'))\n",
        "print(\"\\n\")\n",
        "\n"
      ],
      "metadata": {
        "colab": {
          "base_uri": "https://localhost:8080/"
        },
        "id": "82fDGbvoSUBl",
        "outputId": "2c96370d-6fad-451f-e5f8-ae29a68cad4a"
      },
      "execution_count": 43,
      "outputs": [
        {
          "output_type": "stream",
          "name": "stdout",
          "text": [
            "🔗 Connection ➝ Workbooks:\n",
            "+----+--------------------------------------+-------------------+-----------------------------+--------+--------------------------------------+-----------------+----------------+--------------------------------------+\n",
            "|    | connection_id                        | connection_name   | host_name                   |   port | workbook_id                          | workbook_name   |   project_name | project_luid                         |\n",
            "|----+--------------------------------------+-------------------+-----------------------------+--------+--------------------------------------+-----------------+----------------+--------------------------------------|\n",
            "|  0 | 734528f6-cca9-4dcd-8077-a255139f575d | Rfam              | mysql-rfam-public.ebi.ac.uk |   4497 | 20137fcc-cbbe-4d46-8fb4-14a12de618a3 | Genome          |         202502 | 85b628ee-8006-4e19-97e3-86f379a901d8 |\n",
            "|  1 | 734528f6-cca9-4dcd-8077-a255139f575d | Rfam              | mysql-rfam-public.ebi.ac.uk |   4497 | 833388a2-5597-4088-a979-401df6d65648 | Genemoe_2       |         202502 | 85b628ee-8006-4e19-97e3-86f379a901d8 |\n",
            "+----+--------------------------------------+-------------------+-----------------------------+--------+--------------------------------------+-----------------+----------------+--------------------------------------+\n",
            "\n",
            "\n",
            "🗄️ Connection ➝ Datasources:\n",
            "+----+--------------------------------------+-------------------+-----------------------------+--------+--------------------------------------+-------------------+---------------------------+\n",
            "|    | connection_id                        | connection_name   | host_name                   |   port | datasource_id                        | datasource_name   |   datasource_project_name |\n",
            "|----+--------------------------------------+-------------------+-----------------------------+--------+--------------------------------------+-------------------+---------------------------|\n",
            "|  0 | 734528f6-cca9-4dcd-8077-a255139f575d | Rfam              | mysql-rfam-public.ebi.ac.uk |   4497 | 6799ea94-4f5f-4f10-9070-7c92cc24377f | genome            |                    202502 |\n",
            "+----+--------------------------------------+-------------------+-----------------------------+--------+--------------------------------------+-------------------+---------------------------+\n",
            "\n",
            "\n"
          ]
        }
      ]
    },
    {
      "cell_type": "markdown",
      "source": [
        "***Let's retreive connection details for all 3 objects i.e Username \"Value need to be fixed\". The 3 objects have the same connection details***"
      ],
      "metadata": {
        "id": "UYBqCiA5um6K"
      }
    },
    {
      "cell_type": "code",
      "source": [
        "#Loop over retreived datasources\n",
        "for ds_id in df_datasources['datasource_id'].unique():\n",
        "  ds = server.datasources.get_by_id(ds_id)\n",
        "  print(f\"DS Name:\\t{ds.name}\")\n",
        "  server.datasources.populate_connections(ds)\n",
        "  connection = ds.connections[0]\n",
        "  print(f\"Connection DS Name:\\t{connection.datasource_name}\")\n",
        "  print(f\"Username:\\t{connection.username}\")\n",
        "  print(\"\\n\")\n",
        "\n",
        "#Loop over retreived workbooks\n",
        "for wb_id in df_connection_workbooks['workbook_id'].unique():\n",
        "  wb = server.workbooks.get_by_id(wb_id)\n",
        "  print(f\"WB Name:\\t{wb.name}\")\n",
        "  server.workbooks.populate_connections(wb)\n",
        "  connection = wb.connections[0]\n",
        "  print(f\"Connection DS Name:\\t{connection.datasource_name}\")\n",
        "  print(f\"Username:\\t{connection.username}\")\n",
        "  print(\"\\n\")"
      ],
      "metadata": {
        "colab": {
          "base_uri": "https://localhost:8080/"
        },
        "id": "Ag_bB1dYya65",
        "outputId": "9188d20f-c1ad-4d9d-c962-a1deee0a92b8"
      },
      "execution_count": 57,
      "outputs": [
        {
          "output_type": "stream",
          "name": "stdout",
          "text": [
            "DS Name:\tgenome\n",
            "Connection DS Name:\tgenome\n",
            "Username:\trfamros\n",
            "\n",
            "\n",
            "WB Name:\tGenome\n",
            "Connection DS Name:\tgenome\n",
            "Username:\t\n",
            "\n",
            "\n",
            "WB Name:\tGenemoe_2\n",
            "Connection DS Name:\tgenome (local copy)\n",
            "Username:\trfamrox\n",
            "\n",
            "\n"
          ]
        }
      ]
    },
    {
      "cell_type": "markdown",
      "source": [
        "**The 1st Workbook i.e `Genome` don't have a value for the username as It has a connection to a published datasource i.e `genome`**\n",
        "\n",
        "**The 2nd Workbbok is the one has an embedded connection i.e `genome (local copy)`**"
      ],
      "metadata": {
        "id": "aOQcH0NE2jNr"
      }
    },
    {
      "cell_type": "markdown",
      "source": [
        "# **Update Connection Details**"
      ],
      "metadata": {
        "id": "--iwanW6MYum"
      }
    },
    {
      "cell_type": "code",
      "source": [
        "#Loop over retreived datasources to fix username\n",
        "for ds_id in df_datasources['datasource_id'].unique():\n",
        "  ds = server.datasources.get_by_id(ds_id)\n",
        "  print(f\"DS Name:\\t{ds.name}\")\n",
        "  server.datasources.populate_connections(ds)\n",
        "  connection = ds.connections[0]\n",
        "  # Assign the correct value for Username\n",
        "  connection.username = 'rfamro'\n",
        "  # update datasource connection\n",
        "  server.datasources.update_connection(ds, connection)\n",
        "  print(f\"Connection Username for {connection.datasource_name} is Fixed\")\n",
        "  print(\"\\n\")\n",
        "\n",
        "#Loop over retreived workbooks to fix username\n",
        "for wb_id in df_connection_workbooks['workbook_id'].unique():\n",
        "  wb = server.workbooks.get_by_id(wb_id)\n",
        "  print(f\"WB Name:\\t{wb.name}\")\n",
        "  server.workbooks.populate_connections(wb)\n",
        "  connection = wb.connections[0]\n",
        "  if connection.username:\n",
        "    # Assign the correct value for Username\n",
        "    connection.username = 'rfamro'\n",
        "    # update datasource connection\n",
        "    server.workbooks.update_connection(wb, connection)\n",
        "    print(f\"Connection Username for {connection.datasource_name} is Fixed\")\n",
        "  print(\"\\n\")"
      ],
      "metadata": {
        "colab": {
          "base_uri": "https://localhost:8080/"
        },
        "id": "qBvFVFxN6UaU",
        "outputId": "bb01d634-9ad7-4893-bd92-71098177409c"
      },
      "execution_count": 62,
      "outputs": [
        {
          "output_type": "stream",
          "name": "stdout",
          "text": [
            "DS Name:\tgenome\n",
            "Connection Username for genome is Fixed\n",
            "\n",
            "\n",
            "WB Name:\tGenome\n",
            "\n",
            "\n",
            "WB Name:\tGenemoe_2\n",
            "Connection Username for genome (local copy) is Fixed\n",
            "\n",
            "\n"
          ]
        }
      ]
    },
    {
      "cell_type": "markdown",
      "source": [
        "# **Let's Validate the updated connection**"
      ],
      "metadata": {
        "id": "9_g5B_k6NBwm"
      }
    },
    {
      "cell_type": "code",
      "source": [
        "#Loop over retreived datasources\n",
        "for ds_id in df_datasources['datasource_id'].unique():\n",
        "  ds = server.datasources.get_by_id(ds_id)\n",
        "  print(f\"DS Name:\\t{ds.name}\")\n",
        "  server.datasources.populate_connections(ds)\n",
        "  connection = ds.connections[0]\n",
        "  print(f\"Connection DS Name:\\t{connection.datasource_name}\")\n",
        "  print(f\"Username:\\t{connection.username}\")\n",
        "  print(\"\\n\")\n",
        "\n",
        "#Loop over retreived workbooks\n",
        "for wb_id in df_connection_workbooks['workbook_id'].unique():\n",
        "  wb = server.workbooks.get_by_id(wb_id)\n",
        "  print(f\"WB Name:\\t{wb.name}\")\n",
        "  server.workbooks.populate_connections(wb)\n",
        "  connection = wb.connections[0]\n",
        "  print(f\"Connection DS Name:\\t{connection.datasource_name}\")\n",
        "  print(f\"Username:\\t{connection.username}\")\n",
        "  print(\"\\n\")"
      ],
      "metadata": {
        "colab": {
          "base_uri": "https://localhost:8080/"
        },
        "id": "XxiV_TBlMp21",
        "outputId": "633439ce-4f9a-415d-c5b2-97d930ccf042"
      },
      "execution_count": 63,
      "outputs": [
        {
          "output_type": "stream",
          "name": "stdout",
          "text": [
            "DS Name:\tgenome\n",
            "Connection DS Name:\tgenome\n",
            "Username:\trfamro\n",
            "\n",
            "\n",
            "WB Name:\tGenome\n",
            "Connection DS Name:\tgenome\n",
            "Username:\t\n",
            "\n",
            "\n",
            "WB Name:\tGenemoe_2\n",
            "Connection DS Name:\tgenome (local copy)\n",
            "Username:\trfamro\n",
            "\n",
            "\n"
          ]
        }
      ]
    },
    {
      "cell_type": "markdown",
      "source": [
        "# **Sign out from Tableau Cloud**"
      ],
      "metadata": {
        "id": "ksapEMi-TNvz"
      }
    },
    {
      "cell_type": "code",
      "source": [
        "# Sign Out from Tableau Cloud\n",
        "\n",
        "server.auth.sign_out()"
      ],
      "metadata": {
        "id": "zgEaAPgWcUBH"
      },
      "execution_count": null,
      "outputs": []
    },
    {
      "cell_type": "markdown",
      "source": [
        "# **Refrences:**\n",
        "\n",
        "1. https://tableau.github.io/server-client-python/docs/api-ref#data-sources\n",
        "2. https://tableau.github.io/server-client-python/docs/api-ref#connections\n",
        "\n"
      ],
      "metadata": {
        "id": "aBySxyEvdVol"
      }
    }
  ]
}