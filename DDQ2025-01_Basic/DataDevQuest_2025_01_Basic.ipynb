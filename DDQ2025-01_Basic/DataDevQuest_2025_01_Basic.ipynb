{
  "nbformat": 4,
  "nbformat_minor": 0,
  "metadata": {
    "colab": {
      "provenance": [],
      "authorship_tag": "ABX9TyNJ5x8bEFzFjvtrUeJX613I"
    },
    "kernelspec": {
      "name": "python3",
      "display_name": "Python 3"
    },
    "language_info": {
      "name": "python"
    }
  },
  "cells": [
    {
      "cell_type": "code",
      "execution_count": null,
      "metadata": {
        "id": "Xg9yiuinPT0Y"
      },
      "outputs": [],
      "source": [
        "# Install Tableau Server Client (TSC)\n",
        "#!pip install tableauserverclient"
      ]
    },
    {
      "cell_type": "markdown",
      "source": [
        "# **Login to Tableau Cloud Site**"
      ],
      "metadata": {
        "id": "rFm88oRLSTNP"
      }
    },
    {
      "cell_type": "code",
      "source": [
        "import tableauserverclient as TSC\n",
        "from google.colab import userdata\n",
        "\n",
        "\n",
        "my_server_url = 'https://10ax.online.tableau.com/'\n",
        "my_token_name = userdata.get('TC_token_name')\n",
        "my_token_secret = userdata.get('TC_token_secret')\n",
        "my_site_id = userdata.get('TC_site_id')\n",
        "my_workbook = \"world as 100 people_by_Paula_Munoz\"\n",
        "\n",
        "\n",
        "tableau_auth = TSC.PersonalAccessTokenAuth( token_name=my_token_name\n",
        "                                           ,personal_access_token=my_token_secret\n",
        "                                           ,site_id=my_site_id)\n",
        "server = TSC.Server(my_server_url, use_server_version=True)\n",
        "\n",
        "# Sign in to Tableau Cloud\n",
        "\n",
        "server.auth.sign_in_with_personal_access_token(tableau_auth)\n",
        "print('[Logged in successfully to {}]'.format(my_server_url))"
      ],
      "metadata": {
        "id": "pnD-gh_ievEW"
      },
      "execution_count": null,
      "outputs": []
    },
    {
      "cell_type": "markdown",
      "source": [
        "# **Retrieve only the requested workbook and Export as PDF**"
      ],
      "metadata": {
        "id": "KbFnNDqDSstM"
      }
    },
    {
      "cell_type": "code",
      "source": [
        "import os\n",
        "from google.colab import files\n",
        "\n",
        "\n",
        "# Add filteration clause to consider only the requested workbook\n",
        "req_option = TSC.RequestOptions()\n",
        "req_option.filter.add(TSC.Filter(TSC.RequestOptions.Field.Name\n",
        "                                ,TSC.RequestOptions.Operator.Equals\n",
        "                                ,my_workbook))\n",
        "\n",
        "# Print workbook details\n",
        "workbooks, pagination_item = server.workbooks.get(req_options=req_option)\n",
        "if workbooks:\n",
        "  wb = workbooks[0]\n",
        "  print(f\"=== Workbook ===\")\n",
        "  print(f\"Name:{wb.name}\")\n",
        "  print(f\"luid:{wb.id}\")\n",
        "  print(f\"URL:{wb.webpage_url}\")\n",
        "  print(f\"View:{wb.content_url}\")\n",
        "  my_content_url = wb.content_url\n",
        "  pdf_file_name = f'/content/sample_data/{my_content_url}.pdf'\n",
        "  pdf_options = TSC.PDFRequestOptions(page_type='unspecified', orientation='landscape', maxage=1)\n",
        "  server.workbooks.populate_pdf(wb, pdf_options)\n",
        "  print(f'Path:{os.getcwd()}')\n",
        "  with open(pdf_file_name, 'wb') as f:\n",
        "    f.write(wb.pdf)\n",
        "    print('[PDF Generated]')\n"
      ],
      "metadata": {
        "colab": {
          "base_uri": "https://localhost:8080/"
        },
        "id": "Ikrqdcz_SMZJ",
        "outputId": "26a15af4-d49e-4def-9a72-09d21f4c92d1"
      },
      "execution_count": null,
      "outputs": [
        {
          "output_type": "stream",
          "name": "stdout",
          "text": [
            "=== Workbook ===\n",
            "Name:world as 100 people_by_Paula_Munoz\n",
            "luid:49b47e8d-8442-4edd-be76-d7253910229a\n",
            "URL:https://10ax.online.tableau.com/#/site/setitsandboxdev427435/workbooks/1071018\n",
            "View:worldas100people_by_Paula_Munoz\n",
            "Path:/content\n",
            "[PDF Generated]\n"
          ]
        }
      ]
    },
    {
      "cell_type": "markdown",
      "source": [
        "# **Sign out from Tableau Cloud**"
      ],
      "metadata": {
        "id": "ksapEMi-TNvz"
      }
    },
    {
      "cell_type": "code",
      "source": [
        "# Sign Out from Tableau Cloud\n",
        "\n",
        "server.auth.sign_out()"
      ],
      "metadata": {
        "id": "zgEaAPgWcUBH"
      },
      "execution_count": null,
      "outputs": []
    }
  ]
}