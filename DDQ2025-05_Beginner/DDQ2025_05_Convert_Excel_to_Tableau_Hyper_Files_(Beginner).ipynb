{
  "nbformat": 4,
  "nbformat_minor": 0,
  "metadata": {
    "colab": {
      "provenance": [],
      "authorship_tag": "ABX9TyPY1ndD6qx43e3Iag2sxV3j",
      "include_colab_link": true
    },
    "kernelspec": {
      "name": "python3",
      "display_name": "Python 3"
    },
    "language_info": {
      "name": "python"
    }
  },
  "cells": [
    {
      "cell_type": "markdown",
      "metadata": {
        "id": "view-in-github",
        "colab_type": "text"
      },
      "source": [
        "<a href=\"https://colab.research.google.com/github/mok3bat/DataDevQuest/blob/main/DDQ2025_05_Convert_Excel_to_Tableau_Hyper_Files_(Beginner).ipynb\" target=\"_parent\"><img src=\"https://colab.research.google.com/assets/colab-badge.svg\" alt=\"Open In Colab\"/></a>"
      ]
    },
    {
      "cell_type": "code",
      "execution_count": 1,
      "metadata": {
        "colab": {
          "base_uri": "https://localhost:8080/"
        },
        "id": "MSyTD3HKe8f_",
        "outputId": "0af81307-32a1-4cb4-c83e-4745ceef5e15"
      },
      "outputs": [
        {
          "output_type": "stream",
          "name": "stdout",
          "text": [
            "Requirement already satisfied: pandas in /usr/local/lib/python3.11/dist-packages (2.2.2)\n",
            "Collecting pantab\n",
            "  Downloading pantab-5.2.2-cp311-cp311-manylinux_2_27_x86_64.manylinux_2_28_x86_64.whl.metadata (3.3 kB)\n",
            "Collecting tableauhyperapi\n",
            "  Downloading tableauhyperapi-0.0.22106-py3-none-manylinux2014_x86_64.whl.metadata (1.3 kB)\n",
            "Collecting perfplot\n",
            "  Downloading perfplot-0.10.2-py3-none-any.whl.metadata (6.0 kB)\n",
            "Requirement already satisfied: numpy>=1.23.2 in /usr/local/lib/python3.11/dist-packages (from pandas) (2.0.2)\n",
            "Requirement already satisfied: python-dateutil>=2.8.2 in /usr/local/lib/python3.11/dist-packages (from pandas) (2.9.0.post0)\n",
            "Requirement already satisfied: pytz>=2020.1 in /usr/local/lib/python3.11/dist-packages (from pandas) (2025.2)\n",
            "Requirement already satisfied: tzdata>=2022.7 in /usr/local/lib/python3.11/dist-packages (from pandas) (2025.2)\n",
            "Requirement already satisfied: pyarrow>=14.0.0 in /usr/local/lib/python3.11/dist-packages (from pantab) (18.1.0)\n",
            "Requirement already satisfied: cffi!=1.14.3,<2,>=1.12.2 in /usr/local/lib/python3.11/dist-packages (from tableauhyperapi) (1.17.1)\n",
            "Requirement already satisfied: matplotlib in /usr/local/lib/python3.11/dist-packages (from perfplot) (3.10.0)\n",
            "Collecting matplotx (from perfplot)\n",
            "  Downloading matplotx-0.3.10-py3-none-any.whl.metadata (13 kB)\n",
            "Requirement already satisfied: rich in /usr/local/lib/python3.11/dist-packages (from perfplot) (13.9.4)\n",
            "Requirement already satisfied: pycparser in /usr/local/lib/python3.11/dist-packages (from cffi!=1.14.3,<2,>=1.12.2->tableauhyperapi) (2.22)\n",
            "Requirement already satisfied: six>=1.5 in /usr/local/lib/python3.11/dist-packages (from python-dateutil>=2.8.2->pandas) (1.17.0)\n",
            "Requirement already satisfied: contourpy>=1.0.1 in /usr/local/lib/python3.11/dist-packages (from matplotlib->perfplot) (1.3.2)\n",
            "Requirement already satisfied: cycler>=0.10 in /usr/local/lib/python3.11/dist-packages (from matplotlib->perfplot) (0.12.1)\n",
            "Requirement already satisfied: fonttools>=4.22.0 in /usr/local/lib/python3.11/dist-packages (from matplotlib->perfplot) (4.58.1)\n",
            "Requirement already satisfied: kiwisolver>=1.3.1 in /usr/local/lib/python3.11/dist-packages (from matplotlib->perfplot) (1.4.8)\n",
            "Requirement already satisfied: packaging>=20.0 in /usr/local/lib/python3.11/dist-packages (from matplotlib->perfplot) (24.2)\n",
            "Requirement already satisfied: pillow>=8 in /usr/local/lib/python3.11/dist-packages (from matplotlib->perfplot) (11.2.1)\n",
            "Requirement already satisfied: pyparsing>=2.3.1 in /usr/local/lib/python3.11/dist-packages (from matplotlib->perfplot) (3.2.3)\n",
            "Requirement already satisfied: markdown-it-py>=2.2.0 in /usr/local/lib/python3.11/dist-packages (from rich->perfplot) (3.0.0)\n",
            "Requirement already satisfied: pygments<3.0.0,>=2.13.0 in /usr/local/lib/python3.11/dist-packages (from rich->perfplot) (2.19.1)\n",
            "Requirement already satisfied: mdurl~=0.1 in /usr/local/lib/python3.11/dist-packages (from markdown-it-py>=2.2.0->rich->perfplot) (0.1.2)\n",
            "Downloading pantab-5.2.2-cp311-cp311-manylinux_2_27_x86_64.manylinux_2_28_x86_64.whl (77.4 MB)\n",
            "\u001b[2K   \u001b[90m━━━━━━━━━━━━━━━━━━━━━━━━━━━━━━━━━━━━━━━━\u001b[0m \u001b[32m77.4/77.4 MB\u001b[0m \u001b[31m6.5 MB/s\u001b[0m eta \u001b[36m0:00:00\u001b[0m\n",
            "\u001b[?25hDownloading tableauhyperapi-0.0.22106-py3-none-manylinux2014_x86_64.whl (78.3 MB)\n",
            "\u001b[2K   \u001b[90m━━━━━━━━━━━━━━━━━━━━━━━━━━━━━━━━━━━━━━━━\u001b[0m \u001b[32m78.3/78.3 MB\u001b[0m \u001b[31m7.7 MB/s\u001b[0m eta \u001b[36m0:00:00\u001b[0m\n",
            "\u001b[?25hDownloading perfplot-0.10.2-py3-none-any.whl (21 kB)\n",
            "Downloading matplotx-0.3.10-py3-none-any.whl (25 kB)\n",
            "Installing collected packages: pantab, tableauhyperapi, matplotx, perfplot\n",
            "Successfully installed matplotx-0.3.10 pantab-5.2.2 perfplot-0.10.2 tableauhyperapi-0.0.22106\n"
          ]
        }
      ],
      "source": [
        "# Install Libraries\n",
        "! pip install pandas pantab tableauhyperapi"
      ]
    },
    {
      "cell_type": "code",
      "source": [
        "# import Libraries\n",
        "\n",
        "'''\n",
        "The selected code cell imports several Python libraries and modules that are commonly used for data manipulation, particularly when working with large datasets and Tableau Hyper files.\n",
        "\n",
        "Here's a breakdown of the imports:\n",
        "\n",
        "itertools: This module implements a number of iterator building blocks inspired by constructs from APL, Haskell, and SML. It provides tools for working with iterators efficiently.\n",
        "time: This module provides various time-related functions, often used for measuring the execution time of code.\n",
        "numpy as np: Imports the NumPy library, aliasing it as np. NumPy is fundamental for numerical operations in Python, especially for working with arrays and matrices.\n",
        "pandas as pd: Imports the pandas library, aliasing it as pd. Pandas is a powerful library for data manipulation and analysis, providing data structures like DataFrames.\n",
        "pantab as pt: Imports the pantab library, aliasing it as pt. Pantab is a library that allows you to read and write pandas DataFrames to and from Tableau Hyper files.\n",
        "from tableauhyperapi import ...: This line imports specific components from the tableauhyperapi library. This library is the official Python API for working directly with Tableau Hyper files. The imported components are:\n",
        "Connection: Used to establish a connection to a Hyper file.\n",
        "CreateMode: Defines how to handle the creation of a Hyper file (e.g., create if it doesn't exist, replace if it does).\n",
        "HyperProcess: Manages the Hyper process, which is the engine that interacts with Hyper files.\n",
        "Inserter: Used to insert data into a table within a Hyper file.\n",
        "SqlType: Represents SQL data types used in Hyper tables.\n",
        "TableDefinition: Defines the schema (table name, column names, data types) of a table in a Hyper file.\n",
        "TableName: Represents the name of a table in a Hyper file.\n",
        "Telemetry: Used to configure telemetry settings for the Hyper process.\n",
        "'''\n",
        "\n",
        "import itertools\n",
        "import time\n",
        "\n",
        "import numpy as np\n",
        "import pandas as pd\n",
        "import pantab as pt\n",
        "from tableauhyperapi import (\n",
        "    Connection,\n",
        "    CreateMode,\n",
        "    HyperProcess,\n",
        "    Inserter,\n",
        "    SqlType,\n",
        "    TableDefinition,\n",
        "    TableName,\n",
        "    Telemetry,\n",
        "    Name\n",
        ")\n",
        "\n",
        "from tabulate import tabulate\n",
        "import matplotlib.pyplot as plt\n",
        "from matplotlib.animation import FuncAnimation"
      ],
      "metadata": {
        "id": "564p-ciwgTi3"
      },
      "execution_count": 2,
      "outputs": []
    },
    {
      "cell_type": "code",
      "source": [
        "excel_path_1 = \"https://github.com/nikdutra/DDQ-2025-04/raw/refs/heads/main/datasets/RWFD_Supply_Chain.xlsx\"\n",
        "sheet_name_1 = \"OrderList\"\n",
        "\n",
        "df = pd.read_excel(excel_path_1, sheet_name=sheet_name_1)\n",
        "\n",
        "print(tabulate(df_orders.head(), headers='keys', tablefmt='psql'))"
      ],
      "metadata": {
        "colab": {
          "base_uri": "https://localhost:8080/"
        },
        "id": "Iu27jB1QkDtz",
        "outputId": "e10ae03a-0ee1-4eea-9707-3dd928b96e34"
      },
      "execution_count": 6,
      "outputs": [
        {
          "output_type": "stream",
          "name": "stdout",
          "text": [
            "+----+-------------+---------------------+---------------+-----------+-------+-----------------+------------------------+-----------------------+------------+--------------+--------------+--------------------+-----------------+----------+\n",
            "|    |    Order ID | Order Date          | Origin Port   | Carrier   |   TPT | Service Level   |   Ship ahead day count |   Ship Late Day count | Customer   |   Product ID | Plant Code   | Destination Port   |   Unit quantity |   Weight |\n",
            "|----+-------------+---------------------+---------------+-----------+-------+-----------------+------------------------+-----------------------+------------+--------------+--------------+--------------------+-----------------+----------|\n",
            "|  0 | 1.4473e+09  | 2013-05-26 00:00:00 | PORT09        | V44_3     |     1 | CRF             |                      3 |                     0 | V55555_53  |      1700106 | PLANT16      | PORT09             |             808 |    14.3  |\n",
            "|  1 | 1.44716e+09 | 2013-05-26 00:00:00 | PORT09        | V44_3     |     1 | CRF             |                      3 |                     0 | V55555_53  |      1700106 | PLANT16      | PORT09             |            3188 |    87.94 |\n",
            "|  2 | 1.44714e+09 | 2013-05-26 00:00:00 | PORT09        | V44_3     |     1 | CRF             |                      3 |                     0 | V55555_53  |      1700106 | PLANT16      | PORT09             |            2331 |    61.2  |\n",
            "|  3 | 1.44736e+09 | 2013-05-26 00:00:00 | PORT09        | V44_3     |     1 | CRF             |                      3 |                     0 | V55555_53  |      1700106 | PLANT16      | PORT09             |             847 |    16.16 |\n",
            "|  4 | 1.44736e+09 | 2013-05-26 00:00:00 | PORT09        | V44_3     |     1 | CRF             |                      3 |                     0 | V55555_53  |      1700106 | PLANT16      | PORT09             |            2163 |    52.34 |\n",
            "+----+-------------+---------------------+---------------+-----------+-------+-----------------+------------------------+-----------------------+------------+--------------+--------------+--------------------+-----------------+----------+\n"
          ]
        }
      ]
    },
    {
      "cell_type": "code",
      "source": [
        "# Check the inferred data types\n",
        "print(df.dtypes)"
      ],
      "metadata": {
        "colab": {
          "base_uri": "https://localhost:8080/"
        },
        "id": "QIqXcXr3mvF3",
        "outputId": "9a89278f-af30-4f05-fdcd-7a0a76d9d536"
      },
      "execution_count": 7,
      "outputs": [
        {
          "output_type": "stream",
          "name": "stdout",
          "text": [
            "Order ID                       float64\n",
            "Order Date              datetime64[ns]\n",
            "Origin Port                     object\n",
            "Carrier                         object\n",
            "TPT                              int64\n",
            "Service Level                   object\n",
            "Ship ahead day count             int64\n",
            "Ship Late Day count              int64\n",
            "Customer                        object\n",
            "Product ID                       int64\n",
            "Plant Code                      object\n",
            "Destination Port                object\n",
            "Unit quantity                    int64\n",
            "Weight                         float64\n",
            "dtype: object\n"
          ]
        }
      ]
    },
    {
      "cell_type": "markdown",
      "source": [
        "**All types looks fine for me. Except for Order ID, Product ID which should be Int**"
      ],
      "metadata": {
        "id": "X14V1HRvnerP"
      }
    },
    {
      "cell_type": "code",
      "source": [
        "# Change column datatype\n",
        "convert_dict = {'Product ID': int, 'Order ID': int}\n",
        "\n",
        "df = df.astype(convert_dict)\n",
        "print(df.dtypes)"
      ],
      "metadata": {
        "colab": {
          "base_uri": "https://localhost:8080/"
        },
        "id": "zoEElVnYn8Os",
        "outputId": "7b2ce954-d983-464c-9aa2-f647ddc9b313"
      },
      "execution_count": 8,
      "outputs": [
        {
          "output_type": "stream",
          "name": "stdout",
          "text": [
            "Order ID                         int64\n",
            "Order Date              datetime64[ns]\n",
            "Origin Port                     object\n",
            "Carrier                         object\n",
            "TPT                              int64\n",
            "Service Level                   object\n",
            "Ship ahead day count             int64\n",
            "Ship Late Day count              int64\n",
            "Customer                        object\n",
            "Product ID                       int64\n",
            "Plant Code                      object\n",
            "Destination Port                object\n",
            "Unit quantity                    int64\n",
            "Weight                         float64\n",
            "dtype: object\n"
          ]
        }
      ]
    },
    {
      "cell_type": "code",
      "source": [
        "#Let's get some info about the imported dataset.\n",
        "\n",
        "df.info()"
      ],
      "metadata": {
        "colab": {
          "base_uri": "https://localhost:8080/"
        },
        "id": "h4qkFKQZoKUu",
        "outputId": "f4e82bbc-2154-44d1-a934-cb296b6a58cf"
      },
      "execution_count": 9,
      "outputs": [
        {
          "output_type": "stream",
          "name": "stdout",
          "text": [
            "<class 'pandas.core.frame.DataFrame'>\n",
            "RangeIndex: 599 entries, 0 to 598\n",
            "Data columns (total 14 columns):\n",
            " #   Column                Non-Null Count  Dtype         \n",
            "---  ------                --------------  -----         \n",
            " 0   Order ID              599 non-null    int64         \n",
            " 1   Order Date            599 non-null    datetime64[ns]\n",
            " 2   Origin Port           599 non-null    object        \n",
            " 3   Carrier               599 non-null    object        \n",
            " 4   TPT                   599 non-null    int64         \n",
            " 5   Service Level         599 non-null    object        \n",
            " 6   Ship ahead day count  599 non-null    int64         \n",
            " 7   Ship Late Day count   599 non-null    int64         \n",
            " 8   Customer              599 non-null    object        \n",
            " 9   Product ID            599 non-null    int64         \n",
            " 10  Plant Code            599 non-null    object        \n",
            " 11  Destination Port      599 non-null    object        \n",
            " 12  Unit quantity         599 non-null    int64         \n",
            " 13  Weight                599 non-null    float64       \n",
            "dtypes: datetime64[ns](1), float64(1), int64(6), object(6)\n",
            "memory usage: 65.6+ KB\n"
          ]
        }
      ]
    },
    {
      "cell_type": "code",
      "source": [
        "# Writing a datframe as a hyper file\n",
        "\n",
        "'''\n",
        "The function accept dataframe as input and write it to a hyper file.\n",
        "'''\n",
        "\n",
        "def write_via_pantab(df: pd.DataFrame, db_name=\"Extract_PanTab\", schema=\"Public\", table_name=\"Extract\"):\n",
        "  # Let's write somewhere besides the default public schema\n",
        "  table = TableName(schema, table_name)\n",
        "  pt.frame_to_hyper(df, db_name+\".hyper\", table=table)"
      ],
      "metadata": {
        "id": "RfzXox-qh20L"
      },
      "execution_count": 10,
      "outputs": []
    },
    {
      "cell_type": "markdown",
      "source": [
        "### 📚 Mapping Pandas dtypes → Tableau Hyper SqlType"
      ],
      "metadata": {
        "id": "cv0Tf93uwJh7"
      }
    },
    {
      "cell_type": "code",
      "source": [
        "# Define a mapping from pandas dtypes to Tableau SqlTypes\n",
        "pandas_to_hyper_type = {\n",
        "    \"int64\": SqlType.int(),            # Integer\n",
        "    \"int32\": SqlType.int(),\n",
        "    \"float64\": SqlType.double(),       # Float\n",
        "    \"float32\": SqlType.double(),\n",
        "    \"bool\": SqlType.bool(),            # Boolean\n",
        "    \"object\": SqlType.text(),          # String/Text\n",
        "    \"string\": SqlType.text(),\n",
        "    \"datetime64[ns]\": SqlType.timestamp(),  # Datetime\n",
        "    \"timedelta[ns]\": SqlType.interval(),    # Optional\n",
        "    \"category\": SqlType.text(),        # Fallback to text\n",
        "    \"UInt8\": SqlType.int(),            # Unsigned fallback\n",
        "    \"Int8\": SqlType.int(),\n",
        "    \"Int16\": SqlType.int(),\n",
        "    \"UInt16\": SqlType.int(),\n",
        "    \"UInt32\": SqlType.int(),\n",
        "    \"UInt64\": SqlType.int()\n",
        "}"
      ],
      "metadata": {
        "id": "xBrMXd2Kqf1H"
      },
      "execution_count": 11,
      "outputs": []
    },
    {
      "cell_type": "markdown",
      "source": [
        "### 🛠️ Function to Generate Hyper Schema from DataFrame"
      ],
      "metadata": {
        "id": "n9PmP5IYwoqe"
      }
    },
    {
      "cell_type": "code",
      "source": [
        "def infer_hyper_schema(df, table_name=\"Extract\"):\n",
        "    column_definitions = []\n",
        "\n",
        "    for col in df.columns:\n",
        "        dtype_str = str(df[col].dtype)\n",
        "        hyper_type = pandas_to_hyper_type.get(dtype_str, SqlType.text())  # default to text\n",
        "        column=TableDefinition.Column(name=col, type=hyper_type)\n",
        "        column_definitions.append(column)\n",
        "\n",
        "    return TableDefinition(table_name=table_name, columns=column_definitions)"
      ],
      "metadata": {
        "id": "S3tJ5W38wnkF"
      },
      "execution_count": 12,
      "outputs": []
    },
    {
      "cell_type": "code",
      "source": [
        "infer_hyper_schema(df, table_name=\"Extract\")"
      ],
      "metadata": {
        "colab": {
          "base_uri": "https://localhost:8080/"
        },
        "id": "FU32XwYvERfE",
        "outputId": "b140dc2d-05b1-4586-a3ff-7198a26da3f5"
      },
      "execution_count": 13,
      "outputs": [
        {
          "output_type": "execute_result",
          "data": {
            "text/plain": [
              "TableDefinition(TableName('Extract'), [Column('Order ID', SqlType.int(), Nullability.NULLABLE), Column('Order Date', SqlType.timestamp(), Nullability.NULLABLE), Column('Origin Port', SqlType.text(), Nullability.NULLABLE), Column('Carrier', SqlType.text(), Nullability.NULLABLE), Column('TPT', SqlType.int(), Nullability.NULLABLE), Column('Service Level', SqlType.text(), Nullability.NULLABLE), Column('Ship ahead day count', SqlType.int(), Nullability.NULLABLE), Column('Ship Late Day count', SqlType.int(), Nullability.NULLABLE), Column('Customer', SqlType.text(), Nullability.NULLABLE), Column('Product ID', SqlType.int(), Nullability.NULLABLE), Column('Plant Code', SqlType.text(), Nullability.NULLABLE), Column('Destination Port', SqlType.text(), Nullability.NULLABLE), Column('Unit quantity', SqlType.int(), Nullability.NULLABLE), Column('Weight', SqlType.double(), Nullability.NULLABLE)], Persistence.PERMANENT)"
            ]
          },
          "metadata": {},
          "execution_count": 13
        }
      ]
    },
    {
      "cell_type": "markdown",
      "source": [
        "## Since pandas treats spatial data as object dtype (e.g., WKT strings), you'll need to:\n",
        "\n",
        "*   Decide based on column name convention (like geometry, wkt, etc.)\n",
        "*   Or inspect sample values to detect WKT strings (e.g., \"POINT(30 10)\", \"POLYGON((...))\")\n"
      ],
      "metadata": {
        "id": "0WPYnNH2ywll"
      }
    },
    {
      "cell_type": "markdown",
      "source": [
        "### 🧠 Update the Mapping Function"
      ],
      "metadata": {
        "id": "IZKsJzEBzNlq"
      }
    },
    {
      "cell_type": "code",
      "source": [
        "'''\n",
        "This function will handle spatial columns\n",
        "User will define which column is including spatial info.\n",
        "\n",
        "Example\n",
        "df = pd.DataFrame({\n",
        "    \"location\": [\"POINT(30 10)\", \"POINT(40 20)\", \"POINT(50 30)\"],\n",
        "    \"city\": [\"Cairo\", \"Dubai\", \"Riyadh\"]\n",
        "})\n",
        "\n",
        "schema = infer_hyper_schema_with_spatial(df, spatial_columns=[\"location\"])\n",
        "print(schema)\n",
        "\n",
        "'''\n",
        "\n",
        "def infer_hyper_schema_with_spatial(df, schema=\"Extract\", table_name=\"Extract\", spatial_columns=None):\n",
        "\n",
        "    spatial_columns = spatial_columns or []\n",
        "\n",
        "    column_definitions = []\n",
        "\n",
        "    for col in df.columns:\n",
        "        if col in spatial_columns:\n",
        "            hyper_type = SqlType.geography()\n",
        "        else:\n",
        "            dtype_str = str(df[col].dtype)\n",
        "            hyper_type = pandas_to_hyper_type.get(dtype_str, SqlType.text())  # default to text\n",
        "\n",
        "        column=TableDefinition.Column(name=col, type=hyper_type)\n",
        "        column_definitions.append(column)\n",
        "\n",
        "\n",
        "    return TableDefinition(table_name=TableName(schema, table_name), columns=column_definitions)"
      ],
      "metadata": {
        "id": "d9I0yGYkyvf-"
      },
      "execution_count": 18,
      "outputs": []
    },
    {
      "cell_type": "code",
      "source": [
        "# Write rows using hyper api\n",
        "\n",
        "def write_via_hyperapi(df: pd.DataFrame, db_name=\"Extract_API\", schema=\"Extract\", table_name=\"Extract\", spatial_columns=None):\n",
        "    with HyperProcess(telemetry=Telemetry.DO_NOT_SEND_USAGE_DATA_TO_TABLEAU) as hyper:\n",
        "        table = infer_hyper_schema_with_spatial(df, schema=schema, table_name=table_name, spatial_columns=spatial_columns)\n",
        "        with Connection(\n",
        "            endpoint=hyper.endpoint,\n",
        "            database=db_name+\".hyper\",\n",
        "            create_mode=CreateMode.CREATE_AND_REPLACE,\n",
        "        ) as conn:\n",
        "            conn.catalog.create_schema(schema=table.table_name.schema_name)\n",
        "            # print(table.table_name.schema_name)\n",
        "            conn.catalog.create_table(table_definition=table)\n",
        "            with Inserter(conn, table) as inserter:\n",
        "              inserter.add_rows(rows=df.to_numpy().tolist())\n",
        "              inserter.execute()"
      ],
      "metadata": {
        "id": "k3MG2Z46h9uX"
      },
      "execution_count": 16,
      "outputs": []
    },
    {
      "cell_type": "code",
      "source": [
        "\n",
        "funcs = {\n",
        "    \"pantab\": write_via_pantab,\n",
        "    \"hyperapi\": write_via_hyperapi\n",
        "}\n",
        "\n",
        "\n",
        "# Sizes to test (multiples of the original DataFrame)\n",
        "scales = [1,17, 167, 1669, 16695]\n",
        "\n",
        "results = []\n",
        "\n",
        "for scale in scales:\n",
        "    df_scaled = df.loc[df.index.repeat(scale)].reset_index(drop=True)\n",
        "    print(f\"\\n🔢 Testing with {len(df_scaled)} rows\")\n",
        "    for name, func in funcs.items():\n",
        "        start_time = time.time()\n",
        "        func(df_scaled)\n",
        "        elapsed = time.time() - start_time\n",
        "        print(f\"{name:<10} ➤ {elapsed:.3f} seconds\")\n",
        "        results.append({\n",
        "            \"Function\": name,\n",
        "            \"Rows\": len(df_scaled),\n",
        "            \"Time (s)\": round(elapsed, 3)\n",
        "        })\n",
        "\n",
        "# Optional: Convert to DataFrame for export or plotting\n",
        "results_df = pd.DataFrame(results)\n",
        "print(\"\\n📊 Summary:\")\n",
        "print(results_df)\n"
      ],
      "metadata": {
        "colab": {
          "base_uri": "https://localhost:8080/"
        },
        "id": "D2ZH3y_A7POA",
        "outputId": "c2d15c69-ce8f-49a7-8800-bdfd4dc450c3"
      },
      "execution_count": 19,
      "outputs": [
        {
          "output_type": "stream",
          "name": "stdout",
          "text": [
            "\n",
            "🔢 Testing with 599 rows\n",
            "pantab     ➤ 0.102 seconds\n",
            "hyperapi   ➤ 0.106 seconds\n",
            "\n",
            "🔢 Testing with 10183 rows\n",
            "pantab     ➤ 0.130 seconds\n",
            "hyperapi   ➤ 0.267 seconds\n",
            "\n",
            "🔢 Testing with 100033 rows\n",
            "pantab     ➤ 0.405 seconds\n",
            "hyperapi   ➤ 2.197 seconds\n",
            "\n",
            "🔢 Testing with 999731 rows\n",
            "pantab     ➤ 2.128 seconds\n",
            "hyperapi   ➤ 20.446 seconds\n",
            "\n",
            "🔢 Testing with 10000305 rows\n",
            "pantab     ➤ 22.698 seconds\n",
            "hyperapi   ➤ 186.138 seconds\n",
            "\n",
            "📊 Summary:\n",
            "   Function      Rows  Time (s)\n",
            "0    pantab       599     0.102\n",
            "1  hyperapi       599     0.106\n",
            "2    pantab     10183     0.130\n",
            "3  hyperapi     10183     0.267\n",
            "4    pantab    100033     0.405\n",
            "5  hyperapi    100033     2.197\n",
            "6    pantab    999731     2.128\n",
            "7  hyperapi    999731    20.446\n",
            "8    pantab  10000305    22.698\n",
            "9  hyperapi  10000305   186.138\n"
          ]
        }
      ]
    },
    {
      "cell_type": "code",
      "source": [
        "# Extract unique function names\n",
        "funcs = results_df[\"Function\"].unique()\n",
        "\n",
        "# Get X axis values (row counts)\n",
        "xvals = sorted(results_df[\"Rows\"].unique())\n",
        "\n",
        "# Build time values for each function\n",
        "time_series = {\n",
        "    func: results_df[results_df[\"Function\"] == func].sort_values(\"Rows\")[\"Time (s)\"].values\n",
        "    for func in funcs\n",
        "}\n",
        "\n",
        "\n",
        "for func in funcs:\n",
        "    plt.plot(xvals, time_series[func], marker=\"o\", label=func)\n",
        "\n",
        "plt.xlabel(\"Number of Rows\")\n",
        "plt.ylabel(\"Time (seconds)\")\n",
        "plt.title(\"Performance Comparison: pantab vs. hyperapi\")\n",
        "plt.legend()\n",
        "plt.grid(True)\n",
        "plt.tight_layout()\n",
        "plt.xscale(\"log\")\n",
        "plt.show()"
      ],
      "metadata": {
        "colab": {
          "base_uri": "https://localhost:8080/",
          "height": 491
        },
        "id": "o0_k-OMSk1kl",
        "outputId": "0cfabb6b-4c15-4549-beab-edfc5dc745b2"
      },
      "execution_count": 20,
      "outputs": [
        {
          "output_type": "display_data",
          "data": {
            "text/plain": [
              "<Figure size 640x480 with 1 Axes>"
            ],
            "image/png": "[encoded data removed]"
          },
          "metadata": {}
        }
      ]
    },
    {
      "cell_type": "code",
      "source": [
        "# Sort values for proper animation\n",
        "results_df = results_df.sort_values(by=[\"Function\", \"Rows\"])\n",
        "\n",
        "# Grouped data for animation\n",
        "funcs = results_df[\"Function\"].unique()\n",
        "grouped = {func: df.sort_values(\"Rows\") for func, df in results_df.groupby(\"Function\")}\n",
        "\n",
        "# Set up plot\n",
        "fig, ax = plt.subplots()\n",
        "lines = {func: ax.plot([], [], marker='o', label=func)[0] for func in funcs}\n",
        "ax.set_xscale('log')\n",
        "ax.set_xlim(100, results_df[\"Rows\"].max() * 1.25)\n",
        "ax.set_ylim(-10, results_df[\"Time (s)\"].max() * 1.25)\n",
        "ax.set_xlabel(\"Number of Rows\")\n",
        "ax.set_ylabel(\"Time (seconds)\")\n",
        "ax.set_title(\"Performance Benchmark: pantab vs. hyperapi\")\n",
        "ax.legend()\n",
        "ax.grid(True)\n",
        "#ax.set_xscale('log')\n",
        "\n",
        "# Animation data prep\n",
        "max_len = max(len(grouped[func]) for func in funcs)\n",
        "\n",
        "def update(frame):\n",
        "    for func in funcs:\n",
        "        data = grouped[func]\n",
        "        if frame < len(data):\n",
        "            lines[func].set_data(data[\"Rows\"].iloc[:frame+1], data[\"Time (s)\"].iloc[:frame+1])\n",
        "    return lines.values()\n",
        "\n",
        "ani = FuncAnimation(fig, update, frames=max_len, interval=600, blit=False, repeat=False)\n",
        "\n",
        "# Show animation live\n",
        "plt.tight_layout()\n",
        "plt.show()\n",
        "\n",
        "# Optional: Save to file (uncomment one)\n",
        "ani.save(\"benchmark_plot.mp4\", fps=1, dpi=150)\n",
        "ani.save(\"benchmark_plot.gif\", writer=\"pillow\", fps=1)\n"
      ],
      "metadata": {
        "colab": {
          "base_uri": "https://localhost:8080/",
          "height": 487
        },
        "id": "CRYAe9yhxPTc",
        "outputId": "75fa5534-50d3-4b1a-fef1-6a8bcfa09132"
      },
      "execution_count": 23,
      "outputs": [
        {
          "output_type": "display_data",
          "data": {
            "text/plain": [
              "<Figure size 640x480 with 1 Axes>"
            ],
            "image/png": "[encoded data removed]"
          },
          "metadata": {}
        }
      ]
    },
    {
      "cell_type": "code",
      "source": [
        "# Print summary statistics\n",
        "\n",
        "# Reshape data for easier plotting\n",
        "pantab_data = results_df[results_df['Function'] == 'pantab'].reset_index(drop=True)\n",
        "hyperapi_data = results_df[results_df['Function'] == 'hyperapi'].reset_index(drop=True)\n",
        "\n",
        "print(\"\\n\" + \"=\"*50)\n",
        "print(\"PERFORMANCE ANALYSIS SUMMARY\")\n",
        "print(\"=\"*50)\n",
        "for i, rows in enumerate(pantab_data['Rows']):\n",
        "    pantab_time = pantab_data['Time (s)'].iloc[i]\n",
        "    hyperapi_time = hyperapi_data['Time (s)'].iloc[i]\n",
        "    speedup = hyperapi_time / pantab_time\n",
        "    print(f\"Dataset: {rows:,} rows\")\n",
        "    print(f\"  pantab:   {pantab_time:.2f}s\")\n",
        "    print(f\"  hyperapi: {hyperapi_time:.2f}s\")\n",
        "    print(f\"  Speedup:  {speedup:.1f}x faster with pantab\")\n",
        "    print(\"-\" * 30)\n",
        "\n",
        "avg_speedup = np.mean([hyperapi_data['Time (s)'].iloc[i] / pantab_data['Time (s)'].iloc[i]\n",
        "                      for i in range(len(pantab_data))])\n",
        "print(f\"Average speedup: {avg_speedup:.1f}x faster with pantab\")"
      ],
      "metadata": {
        "colab": {
          "base_uri": "https://localhost:8080/"
        },
        "id": "5mFwwWZrx7Rt",
        "outputId": "5f10bbbc-9736-43d9-ede3-35bf3180acc4"
      },
      "execution_count": 22,
      "outputs": [
        {
          "output_type": "stream",
          "name": "stdout",
          "text": [
            "\n",
            "==================================================\n",
            "PERFORMANCE ANALYSIS SUMMARY\n",
            "==================================================\n",
            "Dataset: 599 rows\n",
            "  pantab:   0.10s\n",
            "  hyperapi: 0.11s\n",
            "  Speedup:  1.0x faster with pantab\n",
            "------------------------------\n",
            "Dataset: 10,183 rows\n",
            "  pantab:   0.13s\n",
            "  hyperapi: 0.27s\n",
            "  Speedup:  2.1x faster with pantab\n",
            "------------------------------\n",
            "Dataset: 100,033 rows\n",
            "  pantab:   0.41s\n",
            "  hyperapi: 2.20s\n",
            "  Speedup:  5.4x faster with pantab\n",
            "------------------------------\n",
            "Dataset: 999,731 rows\n",
            "  pantab:   2.13s\n",
            "  hyperapi: 20.45s\n",
            "  Speedup:  9.6x faster with pantab\n",
            "------------------------------\n",
            "Dataset: 10,000,305 rows\n",
            "  pantab:   22.70s\n",
            "  hyperapi: 186.14s\n",
            "  Speedup:  8.2x faster with pantab\n",
            "------------------------------\n",
            "Average speedup: 5.3x faster with pantab\n"
          ]
        }
      ]
    },
    {
      "cell_type": "code",
      "source": [],
      "metadata": {
        "id": "fedyCng5x7Ec"
      },
      "execution_count": null,
      "outputs": []
    }
  ]
}