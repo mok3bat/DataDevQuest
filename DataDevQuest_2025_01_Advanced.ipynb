{
  "nbformat": 4,
  "nbformat_minor": 0,
  "metadata": {
    "colab": {
      "provenance": [],
      "authorship_tag": "ABX9TyO8fT99aVvp45TcvzJSb2rb",
      "include_colab_link": true
    },
    "kernelspec": {
      "name": "python3",
      "display_name": "Python 3"
    },
    "language_info": {
      "name": "python"
    }
  },
  "cells": [
    {
      "cell_type": "markdown",
      "metadata": {
        "id": "view-in-github",
        "colab_type": "text"
      },
      "source": [
        "<a href=\"https://colab.research.google.com/github/mok3bat/DataDevQuest/blob/main/DataDevQuest_2025_01_Advanced.ipynb\" target=\"_parent\"><img src=\"https://colab.research.google.com/assets/colab-badge.svg\" alt=\"Open In Colab\"/></a>"
      ]
    },
    {
      "cell_type": "code",
      "execution_count": 10,
      "metadata": {
        "id": "Xg9yiuinPT0Y",
        "colab": {
          "base_uri": "https://localhost:8080/"
        },
        "outputId": "946404f5-b1c4-48e9-a029-c339f10a11e2"
      },
      "outputs": [
        {
          "output_type": "stream",
          "name": "stdout",
          "text": [
            "Requirement already satisfied: tableauserverclient in /usr/local/lib/python3.11/dist-packages (0.37)\n",
            "Collecting PyPDF2\n",
            "  Downloading pypdf2-3.0.1-py3-none-any.whl.metadata (6.8 kB)\n",
            "Requirement already satisfied: defusedxml>=0.7.1 in /usr/local/lib/python3.11/dist-packages (from tableauserverclient) (0.7.1)\n",
            "Requirement already satisfied: packaging>=23.1 in /usr/local/lib/python3.11/dist-packages (from tableauserverclient) (24.2)\n",
            "Requirement already satisfied: requests>=2.32 in /usr/local/lib/python3.11/dist-packages (from tableauserverclient) (2.32.3)\n",
            "Requirement already satisfied: urllib3<3,>=2.2.2 in /usr/local/lib/python3.11/dist-packages (from tableauserverclient) (2.3.0)\n",
            "Requirement already satisfied: typing_extensions>=4.0 in /usr/local/lib/python3.11/dist-packages (from tableauserverclient) (4.13.1)\n",
            "Requirement already satisfied: charset-normalizer<4,>=2 in /usr/local/lib/python3.11/dist-packages (from requests>=2.32->tableauserverclient) (3.4.1)\n",
            "Requirement already satisfied: idna<4,>=2.5 in /usr/local/lib/python3.11/dist-packages (from requests>=2.32->tableauserverclient) (3.10)\n",
            "Requirement already satisfied: certifi>=2017.4.17 in /usr/local/lib/python3.11/dist-packages (from requests>=2.32->tableauserverclient) (2025.1.31)\n",
            "Downloading pypdf2-3.0.1-py3-none-any.whl (232 kB)\n",
            "\u001b[2K   \u001b[90m━━━━━━━━━━━━━━━━━━━━━━━━━━━━━━━━━━━━━━━━\u001b[0m \u001b[32m232.6/232.6 kB\u001b[0m \u001b[31m6.3 MB/s\u001b[0m eta \u001b[36m0:00:00\u001b[0m\n",
            "\u001b[?25hInstalling collected packages: PyPDF2\n",
            "Successfully installed PyPDF2-3.0.1\n"
          ]
        }
      ],
      "source": [
        "# Install Tableau Server Client (TSC)\n",
        "!pip install tableauserverclient PyPDF2"
      ]
    },
    {
      "cell_type": "markdown",
      "source": [
        "# **Login to Tableau Cloud Site**"
      ],
      "metadata": {
        "id": "rFm88oRLSTNP"
      }
    },
    {
      "cell_type": "code",
      "source": [
        "import tableauserverclient as TSC\n",
        "from google.colab import userdata\n",
        "\n",
        "\n",
        "my_server_url = 'https://10ax.online.tableau.com/'\n",
        "my_token_name = userdata.get('TC_token_name')\n",
        "my_token_secret = userdata.get('TC_token_secret')\n",
        "my_site_id = userdata.get('TC_site_id')\n",
        "my_workbook = \"Let's Play A Game\"\n",
        "\n",
        "\n",
        "tableau_auth = TSC.PersonalAccessTokenAuth( token_name=my_token_name\n",
        "                                           ,personal_access_token=my_token_secret\n",
        "                                           ,site_id=my_site_id)\n",
        "server = TSC.Server(my_server_url, use_server_version=True)\n",
        "\n",
        "# Sign in to Tableau Cloud\n",
        "\n",
        "server.auth.sign_in_with_personal_access_token(tableau_auth)\n",
        "print('[Logged in successfully to {}]'.format(my_server_url))"
      ],
      "metadata": {
        "id": "pnD-gh_ievEW",
        "colab": {
          "base_uri": "https://localhost:8080/"
        },
        "outputId": "06d129c2-6b32-4bd3-e1a2-2380575bb032"
      },
      "execution_count": 6,
      "outputs": [
        {
          "output_type": "stream",
          "name": "stdout",
          "text": [
            "[Logged in successfully to https://10ax.online.tableau.com/]\n"
          ]
        }
      ]
    },
    {
      "cell_type": "markdown",
      "source": [
        "# **Retrieve only the requested workbook and Export as PDF**"
      ],
      "metadata": {
        "id": "KbFnNDqDSstM"
      }
    },
    {
      "cell_type": "code",
      "source": [
        "import os\n",
        "from google.colab import files\n",
        "import PyPDF2\n",
        "from PyPDF2 import PdfMerger\n",
        "import io\n",
        "import pandas as pd\n",
        "\n",
        "\n",
        "# Add filteration clause to consider only the requested workbook\n",
        "req_option = TSC.RequestOptions()\n",
        "req_option.filter.add(TSC.Filter(TSC.RequestOptions.Field.Name\n",
        "                                ,TSC.RequestOptions.Operator.Equals\n",
        "                                ,my_workbook))\n",
        "\n",
        "\n",
        "# Print workbook details\n",
        "workbooks, pagination_item = server.workbooks.get(req_options=req_option)\n",
        "if workbooks:\n",
        "  wb = workbooks[0]\n",
        "  print(f\"=== Workbook ===\")\n",
        "  print(f\"Name:{wb.name}\")\n",
        "  print(f\"luid:{wb.id}\")\n",
        "  print(f\"URL:{wb.webpage_url}\")\n",
        "  print(f\"View:{wb.content_url}\")\n",
        "  print(\"=================\")\n",
        "  print(\"\\n\")\n",
        "  my_content_url = wb.content_url\n",
        "  pdf_file_name = f'/content/sample_data/{my_content_url}.pdf'\n",
        "  pdf_options = TSC.PDFRequestOptions(page_type='unspecified', orientation='landscape', maxage=1)\n",
        "\n",
        "  #Read Publishers' names\n",
        "  df=pd.read_csv('/content/sample_data/SelectedPublisher.csv')\n",
        "\n",
        "  # List of PDF files you want to merge\n",
        "  pdf_files = []\n",
        "\n",
        "  # Generate the filtered views\n",
        "  for series_name, series in df.items():\n",
        "    for pub in series.values:\n",
        "      # set a view filter\n",
        "      print(f\"===Processing Publisher:\\t{pub}\")\n",
        "      pdf_options.vf('SelectedPublisher', pub)\n",
        "      server.workbooks.populate_pdf(wb, pdf_options)\n",
        "      # Convert populated bianry pdf file to be readable by the merger.\n",
        "      wb_temp = io.BytesIO(wb.pdf)\n",
        "      pdf_files.append(wb_temp)\n",
        "\n",
        "  # Create a merger object\n",
        "  merger = PdfMerger()\n",
        "\n",
        "  # Merge generated PDFs\n",
        "  for pdf in pdf_files:\n",
        "      merger.append(pdf)\n",
        "\n",
        "  # Export the Consolidated PDF\n",
        "  merger.write(f\"/content/sample_data/{my_content_url}.pdf\")\n",
        "  merger.close()\n",
        "  print('[PDF Generated]')\n"
      ],
      "metadata": {
        "colab": {
          "base_uri": "https://localhost:8080/"
        },
        "id": "Ikrqdcz_SMZJ",
        "outputId": "a1424c42-53a9-4c0d-a47d-959669ed6e0d"
      },
      "execution_count": 30,
      "outputs": [
        {
          "output_type": "stream",
          "name": "stdout",
          "text": [
            "=== Workbook ===\n",
            "Name:Let's Play A Game\n",
            "luid:f79704b8-e770-4398-bc42-8545c54b2cb4\n",
            "URL:https://10ax.online.tableau.com/#/site/setitsandboxdev427435/workbooks/1073039\n",
            "View:LetsPlayAGame\n",
            "=================\n",
            "\n",
            "\n",
            "===Processing Publisher:\tActivision\n",
            "===Processing Publisher:\tElectronic Arts\n",
            "===Processing Publisher:\tKonami Digital Entertainment\n",
            "===Processing Publisher:\tNamco Bandai Games\n",
            "===Processing Publisher:\tNintendo\n",
            "===Processing Publisher:\tSega\n",
            "===Processing Publisher:\tSony Computer Entertainment\n",
            "===Processing Publisher:\tTake-Two Interactive\n",
            "===Processing Publisher:\tTHQ\n",
            "===Processing Publisher:\tUbisoft\n",
            "[PDF Generated]\n"
          ]
        }
      ]
    },
    {
      "cell_type": "markdown",
      "source": [
        "# **Sign out from Tableau Cloud**"
      ],
      "metadata": {
        "id": "ksapEMi-TNvz"
      }
    },
    {
      "cell_type": "code",
      "source": [
        "# Sign Out from Tableau Cloud\n",
        "\n",
        "server.auth.sign_out()"
      ],
      "metadata": {
        "id": "zgEaAPgWcUBH"
      },
      "execution_count": null,
      "outputs": []
    },
    {
      "cell_type": "markdown",
      "source": [
        "# **Refrences:**\n",
        "\n",
        "1. https://help.salesforce.com/s/articleView?id=001458516&type=1\n",
        "2. https://tableau.github.io/server-client-python/docs/api-ref#pdfrequestoptions-class\n",
        "\n"
      ],
      "metadata": {
        "id": "aBySxyEvdVol"
      }
    },
    {
      "cell_type": "code",
      "source": [],
      "metadata": {
        "id": "eL9NHMMYvQIT"
      },
      "execution_count": null,
      "outputs": []
    }
  ]
}