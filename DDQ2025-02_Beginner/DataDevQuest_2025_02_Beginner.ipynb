{
  "nbformat": 4,
  "nbformat_minor": 0,
  "metadata": {
    "colab": {
      "provenance": [],
      "authorship_tag": "ABX9TyOACEBMVHWPQ2NRZ8BWfmC5"
    },
    "kernelspec": {
      "name": "python3",
      "display_name": "Python 3"
    },
    "language_info": {
      "name": "python"
    }
  },
  "cells": [
    {
      "cell_type": "code",
      "execution_count": 1,
      "metadata": {
        "id": "Xg9yiuinPT0Y",
        "colab": {
          "base_uri": "https://localhost:8080/"
        },
        "outputId": "f41bae7c-3819-4d0b-dfc8-b6730aefbc8d"
      },
      "outputs": [
        {
          "output_type": "stream",
          "name": "stdout",
          "text": [
            "Collecting tableauserverclient\n",
            "  Downloading tableauserverclient-0.37-py3-none-any.whl.metadata (4.4 kB)\n",
            "Collecting PyPDF2\n",
            "  Downloading pypdf2-3.0.1-py3-none-any.whl.metadata (6.8 kB)\n",
            "Requirement already satisfied: defusedxml>=0.7.1 in /usr/local/lib/python3.11/dist-packages (from tableauserverclient) (0.7.1)\n",
            "Requirement already satisfied: packaging>=23.1 in /usr/local/lib/python3.11/dist-packages (from tableauserverclient) (24.2)\n",
            "Requirement already satisfied: requests>=2.32 in /usr/local/lib/python3.11/dist-packages (from tableauserverclient) (2.32.3)\n",
            "Requirement already satisfied: urllib3<3,>=2.2.2 in /usr/local/lib/python3.11/dist-packages (from tableauserverclient) (2.3.0)\n",
            "Requirement already satisfied: typing_extensions>=4.0 in /usr/local/lib/python3.11/dist-packages (from tableauserverclient) (4.13.1)\n",
            "Requirement already satisfied: charset-normalizer<4,>=2 in /usr/local/lib/python3.11/dist-packages (from requests>=2.32->tableauserverclient) (3.4.1)\n",
            "Requirement already satisfied: idna<4,>=2.5 in /usr/local/lib/python3.11/dist-packages (from requests>=2.32->tableauserverclient) (3.10)\n",
            "Requirement already satisfied: certifi>=2017.4.17 in /usr/local/lib/python3.11/dist-packages (from requests>=2.32->tableauserverclient) (2025.1.31)\n",
            "Downloading tableauserverclient-0.37-py3-none-any.whl (190 kB)\n",
            "\u001b[2K   \u001b[90m━━━━━━━━━━━━━━━━━━━━━━━━━━━━━━━━━━━━━━━━\u001b[0m \u001b[32m190.6/190.6 kB\u001b[0m \u001b[31m4.2 MB/s\u001b[0m eta \u001b[36m0:00:00\u001b[0m\n",
            "\u001b[?25hDownloading pypdf2-3.0.1-py3-none-any.whl (232 kB)\n",
            "\u001b[2K   \u001b[90m━━━━━━━━━━━━━━━━━━━━━━━━━━━━━━━━━━━━━━━━\u001b[0m \u001b[32m232.6/232.6 kB\u001b[0m \u001b[31m7.0 MB/s\u001b[0m eta \u001b[36m0:00:00\u001b[0m\n",
            "\u001b[?25hInstalling collected packages: PyPDF2, tableauserverclient\n",
            "Successfully installed PyPDF2-3.0.1 tableauserverclient-0.37\n"
          ]
        }
      ],
      "source": [
        "# Install Tableau Server Client (TSC)\n",
        "!pip install tableauserverclient PyPDF2"
      ]
    },
    {
      "cell_type": "markdown",
      "source": [
        "# **Login to Tableau Cloud Site**"
      ],
      "metadata": {
        "id": "rFm88oRLSTNP"
      }
    },
    {
      "cell_type": "code",
      "source": [
        "import tableauserverclient as TSC\n",
        "from google.colab import userdata\n",
        "\n",
        "\n",
        "my_server_url = 'https://10ax.online.tableau.com/'\n",
        "my_token_name = userdata.get('TC_token_name')\n",
        "my_token_secret = userdata.get('TC_token_secret')\n",
        "my_site_id = userdata.get('TC_site_id')\n",
        "my_data_source = \"cpat_results\"\n",
        "\n",
        "\n",
        "tableau_auth = TSC.PersonalAccessTokenAuth( token_name=my_token_name\n",
        "                                           ,personal_access_token=my_token_secret\n",
        "                                           ,site_id=my_site_id)\n",
        "server = TSC.Server(my_server_url, use_server_version=True)\n",
        "\n",
        "# Sign in to Tableau Cloud\n",
        "\n",
        "server.auth.sign_in_with_personal_access_token(tableau_auth)\n",
        "print('[Logged in successfully to {}]'.format(my_server_url))"
      ],
      "metadata": {
        "id": "pnD-gh_ievEW",
        "colab": {
          "base_uri": "https://localhost:8080/"
        },
        "outputId": "bd247cc0-2ec0-4103-ab63-b5ccfac02a17"
      },
      "execution_count": 3,
      "outputs": [
        {
          "output_type": "stream",
          "name": "stdout",
          "text": [
            "[Logged in successfully to https://10ax.online.tableau.com/]\n"
          ]
        }
      ]
    },
    {
      "cell_type": "markdown",
      "source": [
        "# **Retrieve only the requested Datasource and Populate Connection Details**"
      ],
      "metadata": {
        "id": "KbFnNDqDSstM"
      }
    },
    {
      "cell_type": "code",
      "source": [
        "# Add filteration clause to consider only the requested workbook\n",
        "req_option = TSC.RequestOptions()\n",
        "req_option.filter.add(TSC.Filter(TSC.RequestOptions.Field.Name\n",
        "                                ,TSC.RequestOptions.Operator.Equals\n",
        "                                ,my_data_source))\n",
        "\n",
        "# Print workbook details\n",
        "datasources, pagination_item = server.datasources.get(req_options=req_option)\n",
        "if datasources:\n",
        "  ds = datasources[0]\n",
        "  print(f\"=== Datasource ===\")\n",
        "  print(f\"Name:{ds.name}\")\n",
        "  print(f\"luid:{ds.id}\")\n",
        "  print(f\"URL:{ds.webpage_url}\")\n",
        "  print(f\"Datasource:{ds.content_url}\")\n",
        "  print(\"==================\")\n",
        "  print(\"\\n\")\n",
        "\n",
        "# get the connection information\n",
        "  server.datasources.populate_connections(ds)\n",
        "  connection = ds.connections[0]\n",
        "  print(f\"Datasource Connection Details:\")\n",
        "  print(f\"Connection Type:\\t{connection.connection_type}\")\n",
        "  print(f\"Connection luid:\\t{connection.id}\")\n",
        "  print(f\"Server Address:\\t{connection.server_address}\")\n",
        "  print(f\"Server Port:\\t{connection.server_port}\")\n",
        "  print(f\"Username:\\t{connection.username}\")"
      ],
      "metadata": {
        "colab": {
          "base_uri": "https://localhost:8080/"
        },
        "id": "Ikrqdcz_SMZJ",
        "outputId": "2d9a1778-9578-40fe-c2f7-0f2145125aeb"
      },
      "execution_count": 12,
      "outputs": [
        {
          "output_type": "stream",
          "name": "stdout",
          "text": [
            "=== Datasource ===\n",
            "Name:cpat_results\n",
            "luid:b35e6d3a-f6c5-4e3a-942b-829d35e68111\n",
            "URL:https://10ax.online.tableau.com/#/site/setitsandboxdev427435/datasources/7577883\n",
            "Datasource:cpat_results\n",
            "==================\n",
            "\n",
            "\n",
            "=== Datasource Connection Details ===\n",
            "Connection Type:\tpostgres\n",
            "Connection luid:\ta43a39e2-b652-4ff3-b0be-df22c850dd35\n",
            "Server Address:\thh-pgsql-public.ebi.ac.uk\n",
            "Server Port:\t5432\n",
            "Username:\treaders\n"
          ]
        }
      ]
    },
    {
      "cell_type": "markdown",
      "source": [
        "**The retrieved value of** `Username:\treaders` **is not correct, Let's fix that**"
      ],
      "metadata": {
        "id": "Gq1NEcpSK2tA"
      }
    },
    {
      "cell_type": "code",
      "source": [
        "# Assign the correct value for Username\n",
        "\n",
        "connection.username = 'reader'"
      ],
      "metadata": {
        "id": "jQlME4VXBw1K"
      },
      "execution_count": 13,
      "outputs": []
    },
    {
      "cell_type": "markdown",
      "source": [
        "# **Update Connection Details**"
      ],
      "metadata": {
        "id": "--iwanW6MYum"
      }
    },
    {
      "cell_type": "code",
      "source": [
        "# update datasource connection\n",
        "\n",
        "server.datasources.update_connection(ds, connection)"
      ],
      "metadata": {
        "colab": {
          "base_uri": "https://localhost:8080/"
        },
        "id": "v6l_m6MhMKsv",
        "outputId": "4e11d1f8-17ec-438b-ad0e-6544a6cc80e0"
      },
      "execution_count": 16,
      "outputs": [
        {
          "output_type": "execute_result",
          "data": {
            "text/plain": [
              "<ConnectionItem#a43a39e2-b652-4ff3-b0be-df22c850dd35 embed=True type=None username=reader>"
            ]
          },
          "metadata": {},
          "execution_count": 16
        }
      ]
    },
    {
      "cell_type": "markdown",
      "source": [
        "# **Let's Validate the updated connection**"
      ],
      "metadata": {
        "id": "9_g5B_k6NBwm"
      }
    },
    {
      "cell_type": "code",
      "source": [
        "# get the connection information\n",
        "\n",
        "server.datasources.populate_connections(ds)\n",
        "connection = ds.connections[0]\n",
        "print(f\"Datasource Connection Details:\")\n",
        "print(f\"Connection Type:\\t{connection.connection_type}\")\n",
        "print(f\"Connection luid:\\t{connection.id}\")\n",
        "print(f\"Server Address:\\t{connection.server_address}\")\n",
        "print(f\"Server Port:\\t{connection.server_port}\")\n",
        "print(f\"Username:\\t{connection.username}\")"
      ],
      "metadata": {
        "colab": {
          "base_uri": "https://localhost:8080/"
        },
        "id": "XxiV_TBlMp21",
        "outputId": "4460185c-4143-4bc4-82ef-a031aed5d178"
      },
      "execution_count": 17,
      "outputs": [
        {
          "output_type": "stream",
          "name": "stdout",
          "text": [
            "Datasource Connection Details:\n",
            "Connection Type:\tpostgres\n",
            "Connection luid:\ta43a39e2-b652-4ff3-b0be-df22c850dd35\n",
            "Server Address:\thh-pgsql-public.ebi.ac.uk\n",
            "Server Port:\t5432\n",
            "Username:\treader\n"
          ]
        }
      ]
    },
    {
      "cell_type": "markdown",
      "source": [
        "# **Sign out from Tableau Cloud**"
      ],
      "metadata": {
        "id": "ksapEMi-TNvz"
      }
    },
    {
      "cell_type": "code",
      "source": [
        "# Sign Out from Tableau Cloud\n",
        "\n",
        "server.auth.sign_out()"
      ],
      "metadata": {
        "id": "zgEaAPgWcUBH"
      },
      "execution_count": null,
      "outputs": []
    },
    {
      "cell_type": "markdown",
      "source": [
        "# **Refrences:**\n",
        "\n",
        "1. https://tableau.github.io/server-client-python/docs/api-ref#data-sources\n",
        "\n"
      ],
      "metadata": {
        "id": "aBySxyEvdVol"
      }
    }
  ]
}